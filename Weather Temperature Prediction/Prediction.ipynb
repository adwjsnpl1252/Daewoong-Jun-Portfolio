{
 "cells": [
  {
   "cell_type": "markdown",
   "metadata": {},
   "source": [
    "# Temperature Prediction\n",
    "\n",
    "## Goals:\n",
    "- By using **RandomForestRegressor**, we will build a temperature prediction model.\n",
    "- Procedure:\n",
    "    - Train and test the model with the wdata dataset.\n",
    "    - To further test my model, predict the temperature in the 2021 January weather temperature.\n",
    "\n",
    "### **What is RandomForestRegressor?**\n",
    "    - Random Forest is an ensemble technique that can perform regression and classification with multiple decision trees and bagging. It determines the output based on its decision trees.\n",
    "    - Random Forest Regressor takes the average value across all the predicted values of each decision trees\n",
    "### **Why this method?**\n",
    "    - Less pre-processing that needs to be done\n",
    "    - Great with high dimensional data\n",
    "    - Low Bias\n",
    "    \n"
   ]
  },
  {
   "cell_type": "markdown",
   "metadata": {},
   "source": [
    "## Import Modules"
   ]
  },
  {
   "cell_type": "code",
   "execution_count": 1,
   "metadata": {},
   "outputs": [],
   "source": [
    "import pandas as pd\n",
    "import numpy as np\n",
    "import plotly.express as px\n",
    "import plotly.graph_objects as go\n",
    "from plotly.subplots import make_subplots\n",
    "import seaborn as sns\n",
    "import matplotlib.pyplot as plt\n",
    "from sklearn.ensemble import RandomForestRegressor\n",
    "from math import sqrt \n",
    "from sklearn.metrics import r2_score,mean_squared_error\n",
    "from sklearn.model_selection import GridSearchCV,train_test_split"
   ]
  },
  {
   "cell_type": "markdown",
   "metadata": {},
   "source": [
    "# Training the Model"
   ]
  },
  {
   "cell_type": "code",
   "execution_count": 2,
   "metadata": {},
   "outputs": [],
   "source": [
    "wdata = pd.read_csv(\"cleaned_wdata.csv\")"
   ]
  },
  {
   "cell_type": "code",
   "execution_count": 3,
   "metadata": {},
   "outputs": [],
   "source": [
    "wdata.drop(\"Season\",axis=1,inplace=True)"
   ]
  },
  {
   "cell_type": "markdown",
   "metadata": {},
   "source": [
    "- Since Season column will not be needed in predicting the temperature, I will drop it."
   ]
  },
  {
   "cell_type": "markdown",
   "metadata": {},
   "source": [
    "## Setting dummies to Categorical Variables"
   ]
  },
  {
   "cell_type": "code",
   "execution_count": 4,
   "metadata": {},
   "outputs": [],
   "source": [
    "# set dummies to the categorical variable\n",
    "Condition = wdata[['Condition']]\n",
    "Condition = pd.get_dummies(Condition)"
   ]
  },
  {
   "cell_type": "code",
   "execution_count": 5,
   "metadata": {},
   "outputs": [],
   "source": [
    "WindDir = wdata[['Wind']]\n",
    "WindDir = pd.get_dummies(WindDir)"
   ]
  },
  {
   "cell_type": "markdown",
   "metadata": {},
   "source": [
    "- Require One Hot Encoding for Categorical variables such as 'Condition' and 'Wind'\n",
    "    - As we have observed from the Exploratory Data Analysis, both condition of that hour and wind direction affect the temperauture.\n",
    "    - As those two variables are categorical, we have to convert them into integer data so that they can be used as the input for the model"
   ]
  },
  {
   "cell_type": "code",
   "execution_count": 6,
   "metadata": {},
   "outputs": [],
   "source": [
    "wdata = pd.concat([wdata,Condition,WindDir],axis=1)"
   ]
  },
  {
   "cell_type": "code",
   "execution_count": 7,
   "metadata": {},
   "outputs": [],
   "source": [
    "wdata.drop(['Condition','Wind'],axis=1,inplace=True)"
   ]
  },
  {
   "cell_type": "markdown",
   "metadata": {},
   "source": [
    "## Separating the Train set and Test set"
   ]
  },
  {
   "cell_type": "code",
   "execution_count": 8,
   "metadata": {},
   "outputs": [],
   "source": [
    "X = wdata.drop(['Date','Temperature(F)'],axis=1)\n",
    "y = wdata['Temperature(F)'].values\n",
    "X_train,X_test,y_train,y_test = train_test_split(X,y,test_size=0.2,random_state=100)"
   ]
  },
  {
   "cell_type": "markdown",
   "metadata": {},
   "source": [
    "## Training and Testing the Model"
   ]
  },
  {
   "cell_type": "code",
   "execution_count": 9,
   "metadata": {},
   "outputs": [],
   "source": [
    "model = RandomForestRegressor(max_features='log2', min_samples_split=8,max_depth=64,\n",
    "                      n_estimators=100)"
   ]
  },
  {
   "cell_type": "code",
   "execution_count": 10,
   "metadata": {},
   "outputs": [
    {
     "data": {
      "text/plain": [
       "RandomForestRegressor(max_depth=64, max_features='log2', min_samples_split=8)"
      ]
     },
     "execution_count": 10,
     "metadata": {},
     "output_type": "execute_result"
    }
   ],
   "source": [
    "model.fit(X_train,y_train)"
   ]
  },
  {
   "cell_type": "code",
   "execution_count": 11,
   "metadata": {},
   "outputs": [],
   "source": [
    "yhat = model.predict(X_test)"
   ]
  },
  {
   "cell_type": "code",
   "execution_count": 12,
   "metadata": {},
   "outputs": [
    {
     "name": "stdout",
     "output_type": "stream",
     "text": [
      "RMSE : 2.6647662983181366\n",
      "r2 score is  : 0.9736849048479607\n"
     ]
    }
   ],
   "source": [
    "print(\"RMSE : {}\".format(np.sqrt(mean_squared_error(yhat,y_test))))\n",
    "print(\"r2 score is  : {}\".format(r2_score(yhat,y_test)))"
   ]
  },
  {
   "cell_type": "markdown",
   "metadata": {},
   "source": [
    "- It has r2 score of 0.97!\n",
    "- However, the RMSE is relatively high, it might be due to overfitting. Let's test with new data to further investigate whether overfitting is affecting the model"
   ]
  },
  {
   "cell_type": "markdown",
   "metadata": {},
   "source": [
    "# WeatherForecasting 2021 January "
   ]
  },
  {
   "cell_type": "markdown",
   "metadata": {},
   "source": [
    "- I have scraped hourly recorded weather in Toronto from 2021 January 1st to 31th.\n",
    "- By using these dataset, we will predict the temperature in Toronto from 2021 January 1st to 31th."
   ]
  },
  {
   "cell_type": "markdown",
   "metadata": {},
   "source": [
    "## Pre-processing"
   ]
  },
  {
   "cell_type": "markdown",
   "metadata": {},
   "source": [
    "- As the test dataset is not clean,Thus we have to clean the dataset similar to the method when we cleaned the wdata dataset."
   ]
  },
  {
   "cell_type": "code",
   "execution_count": 13,
   "metadata": {},
   "outputs": [],
   "source": [
    "# Forecasting 2021 January Temperature\n",
    "datanew = pd.read_csv(\"weather2021Jan.csv\")\n",
    "datanew['Temperature'] = datanew['Temperature'].str.replace('F','').astype(int)\n",
    "datanew['Dew Point'] = datanew['Dew Point'].str.replace('F','').astype(int)\n",
    "datanew['Humidity'] = datanew['Humidity'].str.replace('%','').astype(int)\n",
    "datanew['Wind Speed'] = datanew['Wind Speed'].str.replace('mph','').astype(int)\n",
    "datanew['Wind Gust'] = datanew['Wind Gust'].str.replace('mph','').astype(int)\n",
    "datanew['Pressure'] = datanew['Pressure'].str.replace('in','').astype(float)\n",
    "datanew.drop(\"Precip.\",axis=1,inplace=True)"
   ]
  },
  {
   "cell_type": "code",
   "execution_count": 14,
   "metadata": {},
   "outputs": [],
   "source": [
    "datanew[\"Time\"] = pd.to_datetime(datanew[\"Time\"]).apply(lambda x:x.strftime('%H:%M'))"
   ]
  },
  {
   "cell_type": "code",
   "execution_count": 15,
   "metadata": {},
   "outputs": [],
   "source": [
    "datanew['Date']=pd.to_datetime(datanew['Date'])"
   ]
  },
  {
   "cell_type": "code",
   "execution_count": 17,
   "metadata": {},
   "outputs": [],
   "source": [
    "datanew['Time']=pd.to_datetime(datanew['Time'])\n",
    "datanew.insert(1,column=\"Year\",value=pd.Series(datanew['Date'].dt.year))\n",
    "datanew.insert(2,column=\"Month\",value=pd.Series(datanew['Date'].dt.month))\n",
    "datanew.insert(3,column=\"Day\",value=pd.Series(datanew['Date'].dt.day))\n",
    "datanew.insert(4,column=\"Hour\",value=pd.Series(datanew['Time'].dt.hour))\n",
    "datanew.insert(5,column=\"Minute\",value=pd.Series(datanew['Time'].dt.minute))\n",
    "\n",
    "datanew.drop(['Time'],axis=1,inplace=True)"
   ]
  },
  {
   "cell_type": "code",
   "execution_count": 18,
   "metadata": {},
   "outputs": [],
   "source": [
    "datanew.rename(columns = {'Temperature':'Temperature(F)','Dew Point':'Dew Point(F)','Humidity' : 'Humidity(F)',\n",
    "                         'Wind Speed': 'Wind Speed(mph)','Wind Gust':'Wind Gust(mph)','Pressure':'Pressure(in)'\n",
    "                       },inplace= True)"
   ]
  },
  {
   "cell_type": "code",
   "execution_count": 19,
   "metadata": {},
   "outputs": [],
   "source": [
    "Condition2 = datanew[['Condition']]\n",
    "Condition2 = pd.get_dummies(Condition2)\n",
    "WindDir2 = datanew[['Wind']]\n",
    "WindDir2 = pd.get_dummies(WindDir2)"
   ]
  },
  {
   "cell_type": "code",
   "execution_count": 20,
   "metadata": {},
   "outputs": [],
   "source": [
    "datanew = pd.concat([datanew,Condition2,WindDir2],axis=1)"
   ]
  },
  {
   "cell_type": "code",
   "execution_count": 21,
   "metadata": {},
   "outputs": [],
   "source": [
    "X_Jan = datanew.drop(['Date','Temperature(F)'],axis=1)\n",
    "y_Jan = datanew[\"Temperature(F)\"].values"
   ]
  },
  {
   "cell_type": "code",
   "execution_count": 23,
   "metadata": {},
   "outputs": [],
   "source": [
    "X_inputMissing = list(set(X_train.columns) - set(X_Jan.columns))"
   ]
  },
  {
   "cell_type": "code",
   "execution_count": 24,
   "metadata": {},
   "outputs": [],
   "source": [
    "for i in range(len(X_inputMissing)):\n",
    "    X_Jan[X_inputMissing[i]] = 0"
   ]
  },
  {
   "cell_type": "code",
   "execution_count": 25,
   "metadata": {},
   "outputs": [],
   "source": [
    "X_Jan.drop(['Condition','Wind'],axis=1,inplace=True)"
   ]
  },
  {
   "cell_type": "code",
   "execution_count": 26,
   "metadata": {},
   "outputs": [],
   "source": [
    "Xcols = X_train.columns\n",
    "X_Jan = X_Jan.reindex(columns=Xcols)"
   ]
  },
  {
   "cell_type": "code",
   "execution_count": 27,
   "metadata": {},
   "outputs": [
    {
     "data": {
      "text/html": [
       "<div>\n",
       "<style scoped>\n",
       "    .dataframe tbody tr th:only-of-type {\n",
       "        vertical-align: middle;\n",
       "    }\n",
       "\n",
       "    .dataframe tbody tr th {\n",
       "        vertical-align: top;\n",
       "    }\n",
       "\n",
       "    .dataframe thead th {\n",
       "        text-align: right;\n",
       "    }\n",
       "</style>\n",
       "<table border=\"1\" class=\"dataframe\">\n",
       "  <thead>\n",
       "    <tr style=\"text-align: right;\">\n",
       "      <th></th>\n",
       "      <th>Year</th>\n",
       "      <th>Month</th>\n",
       "      <th>Day</th>\n",
       "      <th>Hour</th>\n",
       "      <th>Minute</th>\n",
       "      <th>Dew Point(F)</th>\n",
       "      <th>Humidity(F)</th>\n",
       "      <th>Wind Speed(mph)</th>\n",
       "      <th>Wind Gust(mph)</th>\n",
       "      <th>Pressure(in)</th>\n",
       "      <th>...</th>\n",
       "      <th>Wind_NW</th>\n",
       "      <th>Wind_S</th>\n",
       "      <th>Wind_SE</th>\n",
       "      <th>Wind_SSE</th>\n",
       "      <th>Wind_SSW</th>\n",
       "      <th>Wind_SW</th>\n",
       "      <th>Wind_VAR</th>\n",
       "      <th>Wind_W</th>\n",
       "      <th>Wind_WNW</th>\n",
       "      <th>Wind_WSW</th>\n",
       "    </tr>\n",
       "  </thead>\n",
       "  <tbody>\n",
       "    <tr>\n",
       "      <th>0</th>\n",
       "      <td>2021</td>\n",
       "      <td>1</td>\n",
       "      <td>1</td>\n",
       "      <td>1</td>\n",
       "      <td>0</td>\n",
       "      <td>23</td>\n",
       "      <td>75</td>\n",
       "      <td>2</td>\n",
       "      <td>0</td>\n",
       "      <td>30.16</td>\n",
       "      <td>...</td>\n",
       "      <td>0</td>\n",
       "      <td>0</td>\n",
       "      <td>0</td>\n",
       "      <td>0</td>\n",
       "      <td>0</td>\n",
       "      <td>0</td>\n",
       "      <td>0</td>\n",
       "      <td>0</td>\n",
       "      <td>0</td>\n",
       "      <td>1</td>\n",
       "    </tr>\n",
       "    <tr>\n",
       "      <th>1</th>\n",
       "      <td>2021</td>\n",
       "      <td>1</td>\n",
       "      <td>1</td>\n",
       "      <td>2</td>\n",
       "      <td>0</td>\n",
       "      <td>25</td>\n",
       "      <td>80</td>\n",
       "      <td>2</td>\n",
       "      <td>0</td>\n",
       "      <td>30.16</td>\n",
       "      <td>...</td>\n",
       "      <td>0</td>\n",
       "      <td>0</td>\n",
       "      <td>0</td>\n",
       "      <td>0</td>\n",
       "      <td>0</td>\n",
       "      <td>0</td>\n",
       "      <td>0</td>\n",
       "      <td>0</td>\n",
       "      <td>0</td>\n",
       "      <td>1</td>\n",
       "    </tr>\n",
       "    <tr>\n",
       "      <th>2</th>\n",
       "      <td>2021</td>\n",
       "      <td>1</td>\n",
       "      <td>1</td>\n",
       "      <td>3</td>\n",
       "      <td>0</td>\n",
       "      <td>27</td>\n",
       "      <td>93</td>\n",
       "      <td>2</td>\n",
       "      <td>0</td>\n",
       "      <td>30.17</td>\n",
       "      <td>...</td>\n",
       "      <td>0</td>\n",
       "      <td>0</td>\n",
       "      <td>0</td>\n",
       "      <td>0</td>\n",
       "      <td>0</td>\n",
       "      <td>0</td>\n",
       "      <td>0</td>\n",
       "      <td>1</td>\n",
       "      <td>0</td>\n",
       "      <td>0</td>\n",
       "    </tr>\n",
       "    <tr>\n",
       "      <th>3</th>\n",
       "      <td>2021</td>\n",
       "      <td>1</td>\n",
       "      <td>1</td>\n",
       "      <td>4</td>\n",
       "      <td>0</td>\n",
       "      <td>27</td>\n",
       "      <td>93</td>\n",
       "      <td>3</td>\n",
       "      <td>0</td>\n",
       "      <td>30.18</td>\n",
       "      <td>...</td>\n",
       "      <td>0</td>\n",
       "      <td>0</td>\n",
       "      <td>0</td>\n",
       "      <td>0</td>\n",
       "      <td>0</td>\n",
       "      <td>0</td>\n",
       "      <td>0</td>\n",
       "      <td>0</td>\n",
       "      <td>1</td>\n",
       "      <td>0</td>\n",
       "    </tr>\n",
       "    <tr>\n",
       "      <th>4</th>\n",
       "      <td>2021</td>\n",
       "      <td>1</td>\n",
       "      <td>1</td>\n",
       "      <td>5</td>\n",
       "      <td>0</td>\n",
       "      <td>25</td>\n",
       "      <td>80</td>\n",
       "      <td>3</td>\n",
       "      <td>0</td>\n",
       "      <td>30.17</td>\n",
       "      <td>...</td>\n",
       "      <td>0</td>\n",
       "      <td>0</td>\n",
       "      <td>0</td>\n",
       "      <td>0</td>\n",
       "      <td>0</td>\n",
       "      <td>0</td>\n",
       "      <td>0</td>\n",
       "      <td>1</td>\n",
       "      <td>0</td>\n",
       "      <td>0</td>\n",
       "    </tr>\n",
       "    <tr>\n",
       "      <th>...</th>\n",
       "      <td>...</td>\n",
       "      <td>...</td>\n",
       "      <td>...</td>\n",
       "      <td>...</td>\n",
       "      <td>...</td>\n",
       "      <td>...</td>\n",
       "      <td>...</td>\n",
       "      <td>...</td>\n",
       "      <td>...</td>\n",
       "      <td>...</td>\n",
       "      <td>...</td>\n",
       "      <td>...</td>\n",
       "      <td>...</td>\n",
       "      <td>...</td>\n",
       "      <td>...</td>\n",
       "      <td>...</td>\n",
       "      <td>...</td>\n",
       "      <td>...</td>\n",
       "      <td>...</td>\n",
       "      <td>...</td>\n",
       "      <td>...</td>\n",
       "    </tr>\n",
       "    <tr>\n",
       "      <th>1409</th>\n",
       "      <td>2021</td>\n",
       "      <td>1</td>\n",
       "      <td>31</td>\n",
       "      <td>21</td>\n",
       "      <td>0</td>\n",
       "      <td>14</td>\n",
       "      <td>68</td>\n",
       "      <td>21</td>\n",
       "      <td>29</td>\n",
       "      <td>29.87</td>\n",
       "      <td>...</td>\n",
       "      <td>0</td>\n",
       "      <td>0</td>\n",
       "      <td>0</td>\n",
       "      <td>0</td>\n",
       "      <td>0</td>\n",
       "      <td>0</td>\n",
       "      <td>0</td>\n",
       "      <td>0</td>\n",
       "      <td>0</td>\n",
       "      <td>0</td>\n",
       "    </tr>\n",
       "    <tr>\n",
       "      <th>1410</th>\n",
       "      <td>2021</td>\n",
       "      <td>1</td>\n",
       "      <td>31</td>\n",
       "      <td>21</td>\n",
       "      <td>23</td>\n",
       "      <td>14</td>\n",
       "      <td>68</td>\n",
       "      <td>24</td>\n",
       "      <td>30</td>\n",
       "      <td>29.86</td>\n",
       "      <td>...</td>\n",
       "      <td>0</td>\n",
       "      <td>0</td>\n",
       "      <td>0</td>\n",
       "      <td>0</td>\n",
       "      <td>0</td>\n",
       "      <td>0</td>\n",
       "      <td>0</td>\n",
       "      <td>0</td>\n",
       "      <td>0</td>\n",
       "      <td>0</td>\n",
       "    </tr>\n",
       "    <tr>\n",
       "      <th>1411</th>\n",
       "      <td>2021</td>\n",
       "      <td>1</td>\n",
       "      <td>31</td>\n",
       "      <td>22</td>\n",
       "      <td>0</td>\n",
       "      <td>16</td>\n",
       "      <td>74</td>\n",
       "      <td>23</td>\n",
       "      <td>31</td>\n",
       "      <td>29.86</td>\n",
       "      <td>...</td>\n",
       "      <td>0</td>\n",
       "      <td>0</td>\n",
       "      <td>0</td>\n",
       "      <td>0</td>\n",
       "      <td>0</td>\n",
       "      <td>0</td>\n",
       "      <td>0</td>\n",
       "      <td>0</td>\n",
       "      <td>0</td>\n",
       "      <td>0</td>\n",
       "    </tr>\n",
       "    <tr>\n",
       "      <th>1412</th>\n",
       "      <td>2021</td>\n",
       "      <td>1</td>\n",
       "      <td>31</td>\n",
       "      <td>23</td>\n",
       "      <td>0</td>\n",
       "      <td>16</td>\n",
       "      <td>80</td>\n",
       "      <td>23</td>\n",
       "      <td>0</td>\n",
       "      <td>29.86</td>\n",
       "      <td>...</td>\n",
       "      <td>0</td>\n",
       "      <td>0</td>\n",
       "      <td>0</td>\n",
       "      <td>0</td>\n",
       "      <td>0</td>\n",
       "      <td>0</td>\n",
       "      <td>0</td>\n",
       "      <td>0</td>\n",
       "      <td>0</td>\n",
       "      <td>0</td>\n",
       "    </tr>\n",
       "    <tr>\n",
       "      <th>1413</th>\n",
       "      <td>2021</td>\n",
       "      <td>1</td>\n",
       "      <td>31</td>\n",
       "      <td>0</td>\n",
       "      <td>0</td>\n",
       "      <td>14</td>\n",
       "      <td>74</td>\n",
       "      <td>24</td>\n",
       "      <td>31</td>\n",
       "      <td>29.84</td>\n",
       "      <td>...</td>\n",
       "      <td>0</td>\n",
       "      <td>0</td>\n",
       "      <td>0</td>\n",
       "      <td>0</td>\n",
       "      <td>0</td>\n",
       "      <td>0</td>\n",
       "      <td>0</td>\n",
       "      <td>0</td>\n",
       "      <td>0</td>\n",
       "      <td>0</td>\n",
       "    </tr>\n",
       "  </tbody>\n",
       "</table>\n",
       "<p>1414 rows × 74 columns</p>\n",
       "</div>"
      ],
      "text/plain": [
       "      Year  Month  Day  Hour  Minute  Dew Point(F)  Humidity(F)  \\\n",
       "0     2021      1    1     1       0            23           75   \n",
       "1     2021      1    1     2       0            25           80   \n",
       "2     2021      1    1     3       0            27           93   \n",
       "3     2021      1    1     4       0            27           93   \n",
       "4     2021      1    1     5       0            25           80   \n",
       "...    ...    ...  ...   ...     ...           ...          ...   \n",
       "1409  2021      1   31    21       0            14           68   \n",
       "1410  2021      1   31    21      23            14           68   \n",
       "1411  2021      1   31    22       0            16           74   \n",
       "1412  2021      1   31    23       0            16           80   \n",
       "1413  2021      1   31     0       0            14           74   \n",
       "\n",
       "      Wind Speed(mph)  Wind Gust(mph)  Pressure(in)  ...  Wind_NW  Wind_S  \\\n",
       "0                   2               0         30.16  ...        0       0   \n",
       "1                   2               0         30.16  ...        0       0   \n",
       "2                   2               0         30.17  ...        0       0   \n",
       "3                   3               0         30.18  ...        0       0   \n",
       "4                   3               0         30.17  ...        0       0   \n",
       "...               ...             ...           ...  ...      ...     ...   \n",
       "1409               21              29         29.87  ...        0       0   \n",
       "1410               24              30         29.86  ...        0       0   \n",
       "1411               23              31         29.86  ...        0       0   \n",
       "1412               23               0         29.86  ...        0       0   \n",
       "1413               24              31         29.84  ...        0       0   \n",
       "\n",
       "      Wind_SE  Wind_SSE  Wind_SSW  Wind_SW  Wind_VAR  Wind_W  Wind_WNW  \\\n",
       "0           0         0         0        0         0       0         0   \n",
       "1           0         0         0        0         0       0         0   \n",
       "2           0         0         0        0         0       1         0   \n",
       "3           0         0         0        0         0       0         1   \n",
       "4           0         0         0        0         0       1         0   \n",
       "...       ...       ...       ...      ...       ...     ...       ...   \n",
       "1409        0         0         0        0         0       0         0   \n",
       "1410        0         0         0        0         0       0         0   \n",
       "1411        0         0         0        0         0       0         0   \n",
       "1412        0         0         0        0         0       0         0   \n",
       "1413        0         0         0        0         0       0         0   \n",
       "\n",
       "      Wind_WSW  \n",
       "0            1  \n",
       "1            1  \n",
       "2            0  \n",
       "3            0  \n",
       "4            0  \n",
       "...        ...  \n",
       "1409         0  \n",
       "1410         0  \n",
       "1411         0  \n",
       "1412         0  \n",
       "1413         0  \n",
       "\n",
       "[1414 rows x 74 columns]"
      ]
     },
     "execution_count": 27,
     "metadata": {},
     "output_type": "execute_result"
    }
   ],
   "source": [
    "X_Jan"
   ]
  },
  {
   "cell_type": "markdown",
   "metadata": {},
   "source": [
    "## Prediction\n",
    "- Now let's make the predictions!"
   ]
  },
  {
   "cell_type": "code",
   "execution_count": 28,
   "metadata": {},
   "outputs": [],
   "source": [
    "yhat = model.predict(X_Jan)"
   ]
  },
  {
   "cell_type": "code",
   "execution_count": 29,
   "metadata": {},
   "outputs": [
    {
     "name": "stdout",
     "output_type": "stream",
     "text": [
      "The R2 is     0.8167\n"
     ]
    }
   ],
   "source": [
    "print(\"The R2 is {:10.4f}\".format(r2_score(yhat,y_Jan)))"
   ]
  },
  {
   "cell_type": "code",
   "execution_count": 30,
   "metadata": {},
   "outputs": [
    {
     "name": "stdout",
     "output_type": "stream",
     "text": [
      "Root Mean Squared Error: 2.2942516274447997\n"
     ]
    }
   ],
   "source": [
    "print(\"Root Mean Squared Error: {}\".format(np.sqrt(mean_squared_error(yhat,y_Jan))))"
   ]
  },
  {
   "cell_type": "code",
   "execution_count": 31,
   "metadata": {},
   "outputs": [],
   "source": [
    "datanew['Predicted'] = yhat"
   ]
  },
  {
   "cell_type": "code",
   "execution_count": 32,
   "metadata": {},
   "outputs": [
    {
     "data": {
      "text/plain": [
       "<matplotlib.legend.Legend at 0x7f9df6aed4d0>"
      ]
     },
     "execution_count": 32,
     "metadata": {},
     "output_type": "execute_result"
    },
    {
     "data": {
      "image/png": "[encoded data removed]",
      "text/plain": [
       "<Figure size 720x288 with 1 Axes>"
      ]
     },
     "metadata": {
      "needs_background": "light"
     },
     "output_type": "display_data"
    }
   ],
   "source": [
    "plt.figure(figsize=(10,4))\n",
    "plt.plot(datanew.groupby(['Date']).mean().reset_index()['Date'],datanew.groupby('Date').mean()['Temperature(F)'],label='Real Values',color=\"blue\")\n",
    "plt.plot(datanew.groupby('Date').mean().reset_index()['Date'],datanew.groupby('Date').mean().reset_index()['Predicted'],label='Predicted Values',color=\"red\")\n",
    "plt.title(\"Temperature Predicted VS Actual Temperature\")\n",
    "plt.legend()"
   ]
  },
  {
   "cell_type": "markdown",
   "metadata": {},
   "source": [
    "- As a result, approximately 82% of the observed variation can be explained by the model's inputs.\n",
    "- Even though the r2 score dropped by more than 10% compared to the previous testing, the root mean squared error also dropped.\n",
    "- Let's see whether we can further improve the model by tuning the parameter of the model with GridSearchCV!"
   ]
  },
  {
   "cell_type": "markdown",
   "metadata": {},
   "source": [
    "## Tuning the Parameter\n",
    "- Tuning the parameter with GridSearchCV to output optimized results"
   ]
  },
  {
   "cell_type": "code",
   "execution_count": 33,
   "metadata": {},
   "outputs": [],
   "source": [
    "param_grid = { \n",
    "            \"n_estimators\"      : [50,100,200],\n",
    "            \"max_features\"      : [\"auto\",\"log2\"],\n",
    "            \"min_samples_split\" : [8,10,12],\n",
    "            \"max_depth\"         : [32,62,128]\n",
    "            }\n"
   ]
  },
  {
   "cell_type": "code",
   "execution_count": 34,
   "metadata": {},
   "outputs": [],
   "source": [
    "gscv = GridSearchCV(model,param_grid,verbose=1,cv=7)"
   ]
  },
  {
   "cell_type": "code",
   "execution_count": 35,
   "metadata": {},
   "outputs": [
    {
     "name": "stdout",
     "output_type": "stream",
     "text": [
      "Fitting 7 folds for each of 54 candidates, totalling 378 fits\n"
     ]
    },
    {
     "data": {
      "text/plain": [
       "GridSearchCV(cv=7,\n",
       "             estimator=RandomForestRegressor(max_depth=64, max_features='log2',\n",
       "                                             min_samples_split=8),\n",
       "             param_grid={'max_depth': [32, 62, 128],\n",
       "                         'max_features': ['auto', 'log2'],\n",
       "                         'min_samples_split': [8, 10, 12],\n",
       "                         'n_estimators': [50, 100, 200]},\n",
       "             verbose=1)"
      ]
     },
     "execution_count": 35,
     "metadata": {},
     "output_type": "execute_result"
    }
   ],
   "source": [
    "gscv.fit(X_train,y_train)"
   ]
  },
  {
   "cell_type": "code",
   "execution_count": 36,
   "metadata": {},
   "outputs": [
    {
     "data": {
      "text/plain": [
       "{'max_depth': 128,\n",
       " 'max_features': 'auto',\n",
       " 'min_samples_split': 8,\n",
       " 'n_estimators': 100}"
      ]
     },
     "execution_count": 36,
     "metadata": {},
     "output_type": "execute_result"
    }
   ],
   "source": [
    "gscv.best_params_"
   ]
  },
  {
   "cell_type": "code",
   "execution_count": 37,
   "metadata": {},
   "outputs": [
    {
     "data": {
      "text/plain": [
       "RandomForestRegressor(max_depth=128, min_samples_split=8)"
      ]
     },
     "execution_count": 37,
     "metadata": {},
     "output_type": "execute_result"
    }
   ],
   "source": [
    "modelAfterTuning = RandomForestRegressor(max_depth =128,max_features = 'auto',min_samples_split= 8,n_estimators = 100)\n",
    "modelAfterTuning.fit(X_train,y_train)"
   ]
  },
  {
   "cell_type": "code",
   "execution_count": 41,
   "metadata": {},
   "outputs": [
    {
     "name": "stdout",
     "output_type": "stream",
     "text": [
      "R2 :     0.9902\n",
      "RMSE : 0.6095509673983219\n"
     ]
    }
   ],
   "source": [
    "yhatAfterTuning = modelAfterTuning.predict(X_Jan)\n",
    "print(\"R2 : {:10.4f}\".format(r2_score(yhatAfterTuning,y_Jan)))\n",
    "print(\"RMSE : {}\".format(np.sqrt(mean_squared_error(yhatAfterTuning,y_Jan))))"
   ]
  },
  {
   "cell_type": "markdown",
   "metadata": {},
   "source": [
    "- The RMSE between y_Jan and predicted values dropped significantly after the parameter tuning while r2 score remains high."
   ]
  },
  {
   "cell_type": "code",
   "execution_count": 42,
   "metadata": {},
   "outputs": [
    {
     "data": {
      "text/plain": [
       "<matplotlib.legend.Legend at 0x7f9df6d3d590>"
      ]
     },
     "execution_count": 42,
     "metadata": {},
     "output_type": "execute_result"
    },
    {
     "data": {
      "image/png": "[encoded data removed]",
      "text/plain": [
       "<Figure size 720x288 with 1 Axes>"
      ]
     },
     "metadata": {
      "needs_background": "light"
     },
     "output_type": "display_data"
    }
   ],
   "source": [
    "datanew['Predicted'] = yhatAfterTuning\n",
    "plt.figure(figsize=(10,4))\n",
    "plt.plot(datanew.groupby(['Date']).mean().reset_index()['Date'],datanew.groupby('Date').mean()['Temperature(F)'],label='Real Values',color=\"blue\")\n",
    "plt.plot(datanew.groupby('Date').mean().reset_index()['Date'],datanew.groupby('Date').mean().reset_index()['Predicted'],label='Predicted Values',color=\"red\")\n",
    "plt.title(\"Temperature Predicted VS Actual Temperature\")\n",
    "plt.legend()"
   ]
  },
  {
   "cell_type": "markdown",
   "metadata": {},
   "source": [
    "- As we can see the lineplot, the predicted values are mostly very close to the actual values!"
   ]
  }
 ],
 "metadata": {
  "kernelspec": {
   "display_name": "Python 3",
   "language": "python",
   "name": "python3"
  },
  "language_info": {
   "codemirror_mode": {
    "name": "ipython",
    "version": 3
   },
   "file_extension": ".py",
   "mimetype": "text/x-python",
   "name": "python",
   "nbconvert_exporter": "python",
   "pygments_lexer": "ipython3",
   "version": "3.7.9"
  }
 },
 "nbformat": 4,
 "nbformat_minor": 4
}
